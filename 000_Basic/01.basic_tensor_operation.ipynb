{
 "cells": [
  {
   "cell_type": "markdown",
   "metadata": {
    "toc": true
   },
   "source": [
    "<h1>Table of Contents<span class=\"tocSkip\"></span></h1>\n",
    "<div class=\"toc\"><ul class=\"toc-item\"><li><span><a href=\"#Basic-Tensor-Operation\" data-toc-modified-id=\"Basic-Tensor-Operation-1\"><span class=\"toc-item-num\">1&nbsp;&nbsp;</span>Basic Tensor Operation</a></span><ul class=\"toc-item\"><li><span><a href=\"#1-Dimension-Tensor\" data-toc-modified-id=\"1-Dimension-Tensor-1.1\"><span class=\"toc-item-num\">1.1&nbsp;&nbsp;</span>1-Dimension Tensor</a></span><ul class=\"toc-item\"><li><span><a href=\"#Data-Type-and-Tensor-Type\" data-toc-modified-id=\"Data-Type-and-Tensor-Type-1.1.1\"><span class=\"toc-item-num\">1.1.1&nbsp;&nbsp;</span>Data Type and Tensor Type</a></span></li></ul></li><li><span><a href=\"#Conversion-of-Tensors\" data-toc-modified-id=\"Conversion-of-Tensors-1.2\"><span class=\"toc-item-num\">1.2&nbsp;&nbsp;</span>Conversion of Tensors</a></span><ul class=\"toc-item\"><li><span><a href=\"#Convert-between-tensor-and-numpy-array\" data-toc-modified-id=\"Convert-between-tensor-and-numpy-array-1.2.1\"><span class=\"toc-item-num\">1.2.1&nbsp;&nbsp;</span>Convert between tensor and numpy array</a></span></li><li><span><a href=\"#Convert-between-tensor-and-pandas\" data-toc-modified-id=\"Convert-between-tensor-and-pandas-1.2.2\"><span class=\"toc-item-num\">1.2.2&nbsp;&nbsp;</span>Convert between tensor and pandas</a></span></li><li><span><a href=\"#Convert-between-tensor-and-python-list\" data-toc-modified-id=\"Convert-between-tensor-and-python-list-1.2.3\"><span class=\"toc-item-num\">1.2.3&nbsp;&nbsp;</span>Convert between tensor and python list</a></span></li><li><span><a href=\"#Element-of-tensor\" data-toc-modified-id=\"Element-of-tensor-1.2.4\"><span class=\"toc-item-num\">1.2.4&nbsp;&nbsp;</span>Element of tensor</a></span></li></ul></li></ul></li><li><span><a href=\"#Index-and-slicing\" data-toc-modified-id=\"Index-and-slicing-2\"><span class=\"toc-item-num\">2&nbsp;&nbsp;</span>Index and slicing</a></span></li></ul></div>"
   ]
  },
  {
   "cell_type": "markdown",
   "metadata": {},
   "source": [
    "***\n",
    "\n",
    "# Basic Tensor Operation\n",
    "\n",
    "## 1-Dimension Tensor\n",
    "\n",
    "### Data Type and Tensor Type\n",
    "\n",
    "![Data type](https://i.imgur.com/RHYCcK2.png)"
   ]
  },
  {
   "cell_type": "code",
   "execution_count": 1,
   "metadata": {},
   "outputs": [
    {
     "name": "stdout",
     "output_type": "stream",
     "text": [
      "tensor(1)\n",
      "torch.int64\n",
      "torch.LongTensor\n",
      "torch.Size([5])\n",
      "1\n",
      "torch.float32\n",
      "torch.FloatTensor\n"
     ]
    }
   ],
   "source": [
    "\n",
    "\n",
    "import torch\n",
    "\n",
    "a = torch.tensor([1,2,3,4,5])\n",
    "\n",
    "print(a[0])\n",
    "print(a.dtype)\n",
    "print(a.type())\n",
    "print(a.size())\n",
    "print(a.ndimension())\n",
    "# Change dtype\n",
    "a = a.type(torch.FloatTensor)\n",
    "print(a.dtype)\n",
    "print(a.type())"
   ]
  },
  {
   "cell_type": "code",
   "execution_count": 2,
   "metadata": {},
   "outputs": [
    {
     "name": "stdout",
     "output_type": "stream",
     "text": [
      "torch.float32\n",
      "torch.FloatTensor\n"
     ]
    }
   ],
   "source": [
    "b = torch.tensor([0.1, 0.2, 0.3, 0.4])\n",
    "print(b.dtype)\n",
    "print(b.type())"
   ]
  },
  {
   "cell_type": "code",
   "execution_count": 3,
   "metadata": {},
   "outputs": [
    {
     "name": "stdout",
     "output_type": "stream",
     "text": [
      "torch.int32\n",
      "torch.IntTensor\n"
     ]
    },
    {
     "name": "stderr",
     "output_type": "stream",
     "text": [
      "<ipython-input-3-e9864f6cfa06>:3: DeprecationWarning: an integer is required (got type float).  Implicit conversion to integers using __int__ is deprecated, and may be removed in a future version of Python.\n",
      "  c = torch.tensor([0.0, 1.0, 2.0, 3.0], dtype=torch.int32)\n"
     ]
    }
   ],
   "source": [
    "# Assign the data type for a tensor\n",
    "\n",
    "c = torch.tensor([0.0, 1.0, 2.0, 3.0], dtype=torch.int32)\n",
    "print(c.dtype)\n",
    "print(c.type())"
   ]
  },
  {
   "cell_type": "code",
   "execution_count": 4,
   "metadata": {},
   "outputs": [
    {
     "name": "stdout",
     "output_type": "stream",
     "text": [
      "torch.float32\n",
      "torch.FloatTensor\n"
     ]
    }
   ],
   "source": [
    "# Create a specific tensor type\n",
    "\n",
    "d = torch.FloatTensor([0, 1, 2, 3])\n",
    "print(d.dtype)\n",
    "print(d.type())"
   ]
  },
  {
   "cell_type": "code",
   "execution_count": 5,
   "metadata": {},
   "outputs": [
    {
     "name": "stdout",
     "output_type": "stream",
     "text": [
      "2\n",
      "2\n",
      "2\n"
     ]
    }
   ],
   "source": [
    "# Change dimension\n",
    "\n",
    "e = torch.Tensor([0,1,2,3,4,5])\n",
    "e_col = e.view(6, 1) # view(# of rows, # of cols)\n",
    "print(e_col.ndimension())\n",
    "e_col = e.view(-1, 1) # -1 means auto\n",
    "print(e_col.ndimension())\n",
    "e_col = e.view(1, 6)\n",
    "print(e_col.ndimension())"
   ]
  },
  {
   "cell_type": "markdown",
   "metadata": {},
   "source": [
    "## Conversion of Tensors\n",
    "\n",
    "### Convert between tensor and numpy array"
   ]
  },
  {
   "cell_type": "code",
   "execution_count": 6,
   "metadata": {},
   "outputs": [
    {
     "name": "stdout",
     "output_type": "stream",
     "text": [
      "tensor([0., 1., 2., 3.], dtype=torch.float64)\n",
      "[0. 1. 2. 3.]\n"
     ]
    }
   ],
   "source": [
    "import numpy as np\n",
    "\n",
    "numpy_array = np.array([0.0, 1.0, 2.0, 3.0])\n",
    "torch_tensor = torch.from_numpy(numpy_array)\n",
    "print(torch_tensor)\n",
    "back_to_numpy = torch_tensor.numpy()\n",
    "print(back_to_numpy)"
   ]
  },
  {
   "cell_type": "markdown",
   "metadata": {},
   "source": [
    "### Convert between tensor and pandas"
   ]
  },
  {
   "cell_type": "code",
   "execution_count": 7,
   "metadata": {},
   "outputs": [
    {
     "name": "stdout",
     "output_type": "stream",
     "text": [
      "tensor([0, 1, 2, 3])\n"
     ]
    }
   ],
   "source": [
    "import pandas as pd\n",
    "\n",
    "pandas_series = pd.Series([0, 1, 2, 3])\n",
    "pandas_to_torch = torch.from_numpy(pandas_series.values)\n",
    "print(pandas_to_torch)"
   ]
  },
  {
   "cell_type": "markdown",
   "metadata": {},
   "source": [
    "### Convert between tensor and python list"
   ]
  },
  {
   "cell_type": "code",
   "execution_count": 8,
   "metadata": {},
   "outputs": [
    {
     "name": "stdout",
     "output_type": "stream",
     "text": [
      "[1, 2, 3]\n"
     ]
    }
   ],
   "source": [
    "this_tensor = torch.tensor([1, 2, 3])\n",
    "torch_to_list = this_tensor.tolist()\n",
    "print(torch_to_list)"
   ]
  },
  {
   "cell_type": "markdown",
   "metadata": {},
   "source": [
    "### Element of tensor"
   ]
  },
  {
   "cell_type": "code",
   "execution_count": 9,
   "metadata": {},
   "outputs": [
    {
     "name": "stdout",
     "output_type": "stream",
     "text": [
      "tensor(5)\n",
      "5\n"
     ]
    }
   ],
   "source": [
    "new_tensor = torch.tensor([5, 4, 3, 2])\n",
    "print(new_tensor[0])\n",
    "\n",
    "# To get value of tensor\n",
    "\n",
    "print(new_tensor[0].item())"
   ]
  },
  {
   "cell_type": "markdown",
   "metadata": {},
   "source": [
    "# Index and slicing"
   ]
  }
 ],
 "metadata": {
  "kernelspec": {
   "display_name": "Python 3",
   "language": "python",
   "name": "python3"
  },
  "language_info": {
   "codemirror_mode": {
    "name": "ipython",
    "version": 3
   },
   "file_extension": ".py",
   "mimetype": "text/x-python",
   "name": "python",
   "nbconvert_exporter": "python",
   "pygments_lexer": "ipython3",
   "version": "3.8.0"
  },
  "toc": {
   "base_numbering": 1,
   "nav_menu": {},
   "number_sections": true,
   "sideBar": true,
   "skip_h1_title": false,
   "title_cell": "Table of Contents",
   "title_sidebar": "Contents",
   "toc_cell": true,
   "toc_position": {},
   "toc_section_display": true,
   "toc_window_display": true
  }
 },
 "nbformat": 4,
 "nbformat_minor": 4
}
