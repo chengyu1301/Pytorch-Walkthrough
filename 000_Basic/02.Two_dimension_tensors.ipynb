{
 "cells": [
  {
   "cell_type": "markdown",
   "metadata": {
    "toc": true
   },
   "source": [
    "<h1>Table of Contents<span class=\"tocSkip\"></span></h1>\n",
    "<div class=\"toc\"><ul class=\"toc-item\"><li><span><a href=\"#Two-Dimension-Tensors\" data-toc-modified-id=\"Two-Dimension-Tensors-1\"><span class=\"toc-item-num\">1&nbsp;&nbsp;</span>Two Dimension Tensors</a></span><ul class=\"toc-item\"><li><span><a href=\"#Create-2D-Tensors\" data-toc-modified-id=\"Create-2D-Tensors-1.1\"><span class=\"toc-item-num\">1.1&nbsp;&nbsp;</span>Create 2D Tensors</a></span></li><li><span><a href=\"#Index-and-Slicing-of-2D-Tensors\" data-toc-modified-id=\"Index-and-Slicing-of-2D-Tensors-1.2\"><span class=\"toc-item-num\">1.2&nbsp;&nbsp;</span>Index and Slicing of 2D Tensors</a></span></li><li><span><a href=\"#Basic-Operations-in-2D-Tensors\" data-toc-modified-id=\"Basic-Operations-in-2D-Tensors-1.3\"><span class=\"toc-item-num\">1.3&nbsp;&nbsp;</span>Basic Operations in 2D Tensors</a></span></li><li><span><a href=\"#Product-of-Two-Tensors\" data-toc-modified-id=\"Product-of-Two-Tensors-1.4\"><span class=\"toc-item-num\">1.4&nbsp;&nbsp;</span>Product of Two Tensors</a></span></li><li><span><a href=\"#Matrix-Multiplication\" data-toc-modified-id=\"Matrix-Multiplication-1.5\"><span class=\"toc-item-num\">1.5&nbsp;&nbsp;</span>Matrix Multiplication</a></span></li></ul></li></ul></div>"
   ]
  },
  {
   "cell_type": "markdown",
   "metadata": {},
   "source": [
    "# Two Dimension Tensors\n",
    "\n",
    "## Create 2D Tensors"
   ]
  },
  {
   "cell_type": "code",
   "execution_count": 1,
   "metadata": {},
   "outputs": [
    {
     "name": "stdout",
     "output_type": "stream",
     "text": [
      "tensor([[11, 12, 13],\n",
      "        [21, 22, 23],\n",
      "        [31, 32, 33]])\n",
      "2\n",
      "torch.Size([3, 3])\n",
      "torch.Size([3, 3])\n",
      "9\n"
     ]
    }
   ],
   "source": [
    "import torch\n",
    "\n",
    "a = [[11, 12, 13], [21, 22, 23], [31, 32, 33]]\n",
    "\n",
    "A = torch.tensor(a)\n",
    "print(A)\n",
    "\n",
    "print(A.ndimension())\n",
    "print(A.shape)\n",
    "print(A.size())\n",
    "print(A.numel()) # number of element"
   ]
  },
  {
   "cell_type": "markdown",
   "metadata": {},
   "source": [
    "## Index and Slicing of 2D Tensors"
   ]
  },
  {
   "cell_type": "code",
   "execution_count": 2,
   "metadata": {},
   "outputs": [
    {
     "name": "stdout",
     "output_type": "stream",
     "text": [
      "tensor([[11, 12, 13],\n",
      "        [21, 22, 23],\n",
      "        [31, 32, 33]])\n",
      "tensor(23)\n",
      "tensor(11)\n",
      "tensor([11, 12])\n",
      "tensor([23, 33])\n"
     ]
    }
   ],
   "source": [
    "print(A)\n",
    "print(A[1][2])\n",
    "print(A[0][0])\n",
    "\n",
    "print(A[0, 0:2])\n",
    "print(A[1:3, 2])"
   ]
  },
  {
   "cell_type": "markdown",
   "metadata": {},
   "source": [
    "## Basic Operations in 2D Tensors"
   ]
  },
  {
   "cell_type": "code",
   "execution_count": 3,
   "metadata": {},
   "outputs": [
    {
     "name": "stdout",
     "output_type": "stream",
     "text": [
      "tensor([[3, 1],\n",
      "        [1, 3]])\n"
     ]
    }
   ],
   "source": [
    "X = torch.tensor([[1, 0], [0, 1]])\n",
    "Y = torch.tensor([[2, 1], [1, 2]])\n",
    "\n",
    "Z = X + Y\n",
    "print(Z)"
   ]
  },
  {
   "cell_type": "code",
   "execution_count": 4,
   "metadata": {},
   "outputs": [
    {
     "name": "stdout",
     "output_type": "stream",
     "text": [
      "tensor([[4, 2],\n",
      "        [2, 4]])\n"
     ]
    }
   ],
   "source": [
    "Y = torch.tensor([[2, 1], [1, 2]])\n",
    "\n",
    "Z = 2 * Y\n",
    "print(Z)"
   ]
  },
  {
   "cell_type": "markdown",
   "metadata": {},
   "source": [
    "## Product of Two Tensors\n",
    "$u \t\\circ v$\n",
    "\n",
    "[阿達瑪乘積 (矩陣)](https://zh.wikipedia.org/wiki/%E9%98%BF%E9%81%94%E7%91%AA%E4%B9%98%E7%A9%8D_(%E7%9F%A9%E9%99%A3))"
   ]
  },
  {
   "cell_type": "code",
   "execution_count": 5,
   "metadata": {},
   "outputs": [
    {
     "name": "stdout",
     "output_type": "stream",
     "text": [
      "tensor([[2, 0],\n",
      "        [0, 2]])\n"
     ]
    }
   ],
   "source": [
    "X = torch.tensor([[1, 0], [0, 1]])\n",
    "Y = torch.tensor([[2, 1], [1, 2]])\n",
    "\n",
    "Z = X * Y\n",
    "print(Z)"
   ]
  },
  {
   "cell_type": "markdown",
   "metadata": {},
   "source": [
    "## Matrix Multiplication\n",
    "$AB$\n",
    "\n",
    "$A: m \\times n$\n",
    "\n",
    "$B: n \\times p$\n",
    "\n",
    "[矩陣乘法](https://zh.wikipedia.org/wiki/%E7%9F%A9%E9%99%A3%E4%B9%98%E6%B3%95)"
   ]
  },
  {
   "cell_type": "code",
   "execution_count": 6,
   "metadata": {},
   "outputs": [
    {
     "name": "stdout",
     "output_type": "stream",
     "text": [
      "tensor([[0, 2],\n",
      "        [0, 2]])\n"
     ]
    }
   ],
   "source": [
    "A = torch.tensor([[0, 1, 1], [1, 0, 1]])\n",
    "B = torch.tensor([[1, 1], [1, 1], [-1, 1]])\n",
    "\n",
    "C = torch.mm(A, B)\n",
    "print(C)"
   ]
  },
  {
   "cell_type": "code",
   "execution_count": null,
   "metadata": {},
   "outputs": [],
   "source": []
  }
 ],
 "metadata": {
  "kernelspec": {
   "display_name": "Python 3",
   "language": "python",
   "name": "python3"
  },
  "language_info": {
   "codemirror_mode": {
    "name": "ipython",
    "version": 3
   },
   "file_extension": ".py",
   "mimetype": "text/x-python",
   "name": "python",
   "nbconvert_exporter": "python",
   "pygments_lexer": "ipython3",
   "version": "3.8.0"
  },
  "toc": {
   "base_numbering": 1,
   "nav_menu": {},
   "number_sections": true,
   "sideBar": true,
   "skip_h1_title": false,
   "title_cell": "Table of Contents",
   "title_sidebar": "Contents",
   "toc_cell": true,
   "toc_position": {},
   "toc_section_display": true,
   "toc_window_display": false
  }
 },
 "nbformat": 4,
 "nbformat_minor": 4
}
