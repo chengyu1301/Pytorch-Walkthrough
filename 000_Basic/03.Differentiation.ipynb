{
 "cells": [
  {
   "cell_type": "markdown",
   "metadata": {
    "toc": true
   },
   "source": [
    "<h1>Table of Contents<span class=\"tocSkip\"></span></h1>\n",
    "<div class=\"toc\"><ul class=\"toc-item\"><li><span><a href=\"#Differentiation\" data-toc-modified-id=\"Differentiation-1\"><span class=\"toc-item-num\">1&nbsp;&nbsp;</span>Differentiation</a></span><ul class=\"toc-item\"><li><span><a href=\"#Simple-Derivatives\" data-toc-modified-id=\"Simple-Derivatives-1.1\"><span class=\"toc-item-num\">1.1&nbsp;&nbsp;</span>Simple Derivatives</a></span></li><li><span><a href=\"#Partial-Derivatives\" data-toc-modified-id=\"Partial-Derivatives-1.2\"><span class=\"toc-item-num\">1.2&nbsp;&nbsp;</span>Partial Derivatives</a></span></li></ul></li></ul></div>"
   ]
  },
  {
   "cell_type": "markdown",
   "metadata": {},
   "source": [
    "# Differentiation\n",
    "\n",
    "\n",
    "## Simple Derivatives\n",
    "\n",
    "$y(x) = x^2$\n",
    "\n",
    "$y(x = 2) = 2^2$\n",
    "\n",
    "$\\frac{dy(x)}{dx} = 2x$\n",
    "\n",
    "$\\frac{dy(x = 2)}{dx} = 2(2) = 4 $"
   ]
  },
  {
   "cell_type": "code",
   "execution_count": 1,
   "metadata": {},
   "outputs": [
    {
     "name": "stdout",
     "output_type": "stream",
     "text": [
      "tensor(4.)\n"
     ]
    }
   ],
   "source": [
    "import torch\n",
    "\n",
    "x = torch.tensor(2.0, requires_grad = True)\n",
    "y = x ** 2\n",
    "\n",
    "y.backward()\n",
    "print(x.grad)\n"
   ]
  },
  {
   "cell_type": "markdown",
   "metadata": {},
   "source": [
    "## Partial Derivatives\n",
    "\n",
    "$f(u, v) = uv + u^2$\n",
    "\n",
    "$\\frac{\\partial f(u, v)}{\\partial u} = v + 2u\n",
    "$\n",
    "\n",
    "$\\frac{\\partial f(u, v)}{\\partial v} = u$\n",
    "\n",
    "$f(u=1,v=2) = uv + u^2$"
   ]
  },
  {
   "cell_type": "code",
   "execution_count": 2,
   "metadata": {},
   "outputs": [
    {
     "name": "stdout",
     "output_type": "stream",
     "text": [
      "tensor(4.)\n",
      "tensor(1.)\n"
     ]
    }
   ],
   "source": [
    "u = torch.tensor(1.0, requires_grad = True)\n",
    "v = torch.tensor(2.0, requires_grad = True)\n",
    "f = u*v + u**2\n",
    "\n",
    "f.backward()\n",
    "\n",
    "print(u.grad) # 對u微分\n",
    "print(v.grad) # 對v微分"
   ]
  },
  {
   "cell_type": "code",
   "execution_count": null,
   "metadata": {},
   "outputs": [],
   "source": []
  }
 ],
 "metadata": {
  "kernelspec": {
   "display_name": "Python 3",
   "language": "python",
   "name": "python3"
  },
  "language_info": {
   "codemirror_mode": {
    "name": "ipython",
    "version": 3
   },
   "file_extension": ".py",
   "mimetype": "text/x-python",
   "name": "python",
   "nbconvert_exporter": "python",
   "pygments_lexer": "ipython3",
   "version": "3.8.0"
  },
  "toc": {
   "base_numbering": 1,
   "nav_menu": {},
   "number_sections": true,
   "sideBar": true,
   "skip_h1_title": false,
   "title_cell": "Table of Contents",
   "title_sidebar": "Contents",
   "toc_cell": true,
   "toc_position": {},
   "toc_section_display": true,
   "toc_window_display": true
  }
 },
 "nbformat": 4,
 "nbformat_minor": 4
}
